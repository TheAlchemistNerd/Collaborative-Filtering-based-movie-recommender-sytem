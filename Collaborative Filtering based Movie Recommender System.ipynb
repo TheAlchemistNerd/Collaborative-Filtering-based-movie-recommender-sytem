{
 "cells": [
  {
   "cell_type": "code",
   "execution_count": 1,
   "id": "045e461a",
   "metadata": {},
   "outputs": [],
   "source": [
    "import numpy as np\n",
    "import pandas as pd\n",
    "import pandas_profiling\n",
    "import matplotlib.pyplot as plt\n",
    "%matplotlib inline\n",
    "import seaborn as sns\n",
    "sns.set_color_codes()\n",
    "sns.set(style = 'whitegrid')\n",
    "from scipy.stats import zscore\n",
    "from sklearn import metrics\n",
    "from sklearn.metrics import mean_squared_error\n",
    "from sklearn.model_selection import train_test_split,KFold, cross_val_score\n",
    "from sklearn.decomposition import PCA\n",
    "from sklearn.preprocessing import StandardScaler\n",
    "from math import sqrt\n",
    "\n",
    "import warnings\n",
    "warnings.filterwarnings('ignore')\n",
    "\n",
    "from IPython.display import Markdown, display, HTML, display_html"
   ]
  },
  {
   "cell_type": "code",
   "execution_count": 2,
   "id": "f34838e0",
   "metadata": {},
   "outputs": [],
   "source": [
    "# functions to handle display\n",
    "def printmd(string, color = None):\n",
    "    \"\"\" setting up customized printing\"\"\"\n",
    "    colorstr = f\"<span style = 'color: {color}'>{string}</span>\"\n",
    "    display(Markdown(colorstr))\n",
    "    \n",
    "def partioned_display(args):\n",
    "    \"\"\"display dataframes side by side\"\"\"\n",
    "    html_str = ''\n",
    "    for df in args:\n",
    "        html_str += df.to_html()\n",
    "    display_html(html_str.replace('table', 'table style=\"display:inline; margin-left:50px !important:margin-right:40px !important\"'), raw = True)"
   ]
  },
  {
   "cell_type": "code",
   "execution_count": 3,
   "id": "30f9a40a",
   "metadata": {},
   "outputs": [],
   "source": [
    "def distplot(figRows, figCols, xSize, ySize, data, features, colors, kde = True, bins = None):\n",
    "    f, axes = plt.subplots(figRows, figCols, figsize= (xSize, ySize))\n",
    "    features = np.array(features).reshape(figRows, figCols)\n",
    "    colors = np.array(colors).reshape(figRows, figCols)\n",
    "    \n",
    "    for row in range(figRows):\n",
    "        for col in range(figCols):\n",
    "            if (figRows == 1 and figCols == 1):\n",
    "                axesplt = axes\n",
    "            elif (figRows == 1 and figCols > 1):\n",
    "                axesplt = axes[col]\n",
    "            else:\n",
    "                axesplt = axes[row][col]\n",
    "            plot = sns.distplot(data[features[row][col]], color=colors[row][col], bins=bins, ax=axesplt, kde=kde, hist_kws={\"edgecolor\":\"k\"})\n",
    "            plot.set_xlabel(features[row][col],fontsize=20)              "
   ]
  },
  {
   "cell_type": "code",
   "execution_count": 4,
   "id": "eccb3e9e",
   "metadata": {},
   "outputs": [],
   "source": [
    "def scatterplot(rowFeature, colFeature, data):\n",
    "    f, axes = plt.subplots(1, 1, figsize=(10, 8))\n",
    "        \n",
    "    plot=sns.scatterplot(x=rowFeature, y=colFeature, data=data, ax=axes)\n",
    "    plot.set_xlabel(rowFeature,fontsize=20)\n",
    "    plot.set_ylabel(colFeature,fontsize=20)"
   ]
  },
  {
   "cell_type": "code",
   "execution_count": 5,
   "id": "8d44ef8d",
   "metadata": {},
   "outputs": [],
   "source": [
    "# load the ratings.csv dataset\n",
    "ratings_df = pd.read_csv('ratings.csv')\n",
    "movies_df = pd.read_csv('movies.csv')\n",
    "movie_ratings = pd.merge(ratings_df, movies_df, left_on = 'movieId', right_on = 'movieId')"
   ]
  },
  {
   "cell_type": "code",
   "execution_count": 6,
   "id": "d810e030",
   "metadata": {},
   "outputs": [
    {
     "data": {
      "text/html": [
       "<div>\n",
       "<style scoped>\n",
       "    .dataframe tbody tr th:only-of-type {\n",
       "        vertical-align: middle;\n",
       "    }\n",
       "\n",
       "    .dataframe tbody tr th {\n",
       "        vertical-align: top;\n",
       "    }\n",
       "\n",
       "    .dataframe thead th {\n",
       "        text-align: right;\n",
       "    }\n",
       "</style>\n",
       "<table border=\"1\" class=\"dataframe\">\n",
       "  <thead>\n",
       "    <tr style=\"text-align: right;\">\n",
       "      <th></th>\n",
       "      <th>userId</th>\n",
       "      <th>movieId</th>\n",
       "      <th>rating</th>\n",
       "      <th>timestamp</th>\n",
       "      <th>title</th>\n",
       "      <th>genres</th>\n",
       "    </tr>\n",
       "  </thead>\n",
       "  <tbody>\n",
       "    <tr>\n",
       "      <th>0</th>\n",
       "      <td>1</td>\n",
       "      <td>16</td>\n",
       "      <td>4.0</td>\n",
       "      <td>1217897793</td>\n",
       "      <td>Casino (1995)</td>\n",
       "      <td>Crime|Drama</td>\n",
       "    </tr>\n",
       "    <tr>\n",
       "      <th>1</th>\n",
       "      <td>9</td>\n",
       "      <td>16</td>\n",
       "      <td>4.0</td>\n",
       "      <td>842686699</td>\n",
       "      <td>Casino (1995)</td>\n",
       "      <td>Crime|Drama</td>\n",
       "    </tr>\n",
       "    <tr>\n",
       "      <th>2</th>\n",
       "      <td>12</td>\n",
       "      <td>16</td>\n",
       "      <td>1.5</td>\n",
       "      <td>1144396284</td>\n",
       "      <td>Casino (1995)</td>\n",
       "      <td>Crime|Drama</td>\n",
       "    </tr>\n",
       "    <tr>\n",
       "      <th>3</th>\n",
       "      <td>24</td>\n",
       "      <td>16</td>\n",
       "      <td>4.0</td>\n",
       "      <td>963468757</td>\n",
       "      <td>Casino (1995)</td>\n",
       "      <td>Crime|Drama</td>\n",
       "    </tr>\n",
       "    <tr>\n",
       "      <th>4</th>\n",
       "      <td>29</td>\n",
       "      <td>16</td>\n",
       "      <td>3.0</td>\n",
       "      <td>836820223</td>\n",
       "      <td>Casino (1995)</td>\n",
       "      <td>Crime|Drama</td>\n",
       "    </tr>\n",
       "  </tbody>\n",
       "</table>\n",
       "</div>"
      ],
      "text/plain": [
       "   userId  movieId  rating   timestamp          title       genres\n",
       "0       1       16     4.0  1217897793  Casino (1995)  Crime|Drama\n",
       "1       9       16     4.0   842686699  Casino (1995)  Crime|Drama\n",
       "2      12       16     1.5  1144396284  Casino (1995)  Crime|Drama\n",
       "3      24       16     4.0   963468757  Casino (1995)  Crime|Drama\n",
       "4      29       16     3.0   836820223  Casino (1995)  Crime|Drama"
      ]
     },
     "execution_count": 6,
     "metadata": {},
     "output_type": "execute_result"
    }
   ],
   "source": [
    "movie_ratings.head(5)"
   ]
  },
  {
   "cell_type": "markdown",
   "id": "54bb24cd",
   "metadata": {},
   "source": [
    "## Exploratory Data Analysis"
   ]
  },
  {
   "cell_type": "markdown",
   "id": "83315ae4",
   "metadata": {},
   "source": [
    "### a. Drop the 'timestamp' attribute"
   ]
  },
  {
   "cell_type": "code",
   "execution_count": 7,
   "id": "5ce03b9e",
   "metadata": {},
   "outputs": [],
   "source": [
    "movie_ratings.drop(['timestamp', 'genres'], axis = 1, inplace = True)"
   ]
  },
  {
   "cell_type": "markdown",
   "id": "c5f84661",
   "metadata": {},
   "source": [
    "### b. filtering users who has given 50 or more number of rating"
   ]
  },
  {
   "cell_type": "code",
   "execution_count": 8,
   "id": "cdcc3a20",
   "metadata": {},
   "outputs": [],
   "source": [
    "movies_groupby_user_rating = movie_ratings.groupby('userId')['rating']\n",
    "movies_groupby_user_rating = pd.DataFrame(movies_groupby_user_rating.count())"
   ]
  },
  {
   "cell_type": "code",
   "execution_count": 9,
   "id": "b75a2181",
   "metadata": {},
   "outputs": [],
   "source": [
    "usermin50_ratings = movies_groupby_user_rating[movies_groupby_user_rating['rating'] >= 50].index\n",
    "movie_ratings = movie_ratings[movie_ratings['userId'].isin(usermin50_ratings)]"
   ]
  },
  {
   "cell_type": "code",
   "execution_count": 10,
   "id": "5b4c51d6",
   "metadata": {},
   "outputs": [
    {
     "name": "stdout",
     "output_type": "stream",
     "text": [
      "The total number of rows : 97802\n",
      "The total number of columns : 4\n"
     ]
    }
   ],
   "source": [
    "# shape of the data\n",
    "print(f'The total number of rows : {movie_ratings.shape[0]}')\n",
    "print(f'The total number of columns : {movie_ratings.shape[1]}')"
   ]
  },
  {
   "cell_type": "code",
   "execution_count": 11,
   "id": "4402c51a",
   "metadata": {},
   "outputs": [
    {
     "name": "stdout",
     "output_type": "stream",
     "text": [
      "<class 'pandas.core.frame.DataFrame'>\n",
      "Int64Index: 97802 entries, 0 to 105338\n",
      "Data columns (total 4 columns):\n",
      " #   Column   Non-Null Count  Dtype  \n",
      "---  ------   --------------  -----  \n",
      " 0   userId   97802 non-null  int64  \n",
      " 1   movieId  97802 non-null  int64  \n",
      " 2   rating   97802 non-null  float64\n",
      " 3   title    97802 non-null  object \n",
      "dtypes: float64(1), int64(2), object(1)\n",
      "memory usage: 3.7+ MB\n"
     ]
    }
   ],
   "source": [
    "# data type for each attribute\n",
    "movie_ratings.info()"
   ]
  },
  {
   "cell_type": "code",
   "execution_count": 12,
   "id": "2ff781cb",
   "metadata": {},
   "outputs": [
    {
     "data": {
      "text/plain": [
       "userId     0\n",
       "movieId    0\n",
       "rating     0\n",
       "title      0\n",
       "dtype: int64"
      ]
     },
     "metadata": {},
     "output_type": "display_data"
    },
    {
     "name": "stdout",
     "output_type": "stream",
     "text": [
      "===================\n"
     ]
    },
    {
     "data": {
      "text/markdown": [
       "<span style = 'color: blue'>**CONCLUSION**: As seen from the data above, we conclude there are **\"No Missing\"** values in the data</span>"
      ],
      "text/plain": [
       "<IPython.core.display.Markdown object>"
      ]
     },
     "metadata": {},
     "output_type": "display_data"
    }
   ],
   "source": [
    "# checking the presence of missing values\n",
    "display(movie_ratings.isna().sum().sort_values())\n",
    "print('===================')\n",
    "printmd('**CONCLUSION**: As seen from the data above, we conclude there are **\"No Missing\"** values in the data', color=\"blue\")"
   ]
  },
  {
   "cell_type": "code",
   "execution_count": 13,
   "id": "5d15f18b",
   "metadata": {},
   "outputs": [
    {
     "data": {
      "text/html": [
       "<div>\n",
       "<style scoped>\n",
       "    .dataframe tbody tr th:only-of-type {\n",
       "        vertical-align: middle;\n",
       "    }\n",
       "\n",
       "    .dataframe tbody tr th {\n",
       "        vertical-align: top;\n",
       "    }\n",
       "\n",
       "    .dataframe thead th {\n",
       "        text-align: right;\n",
       "    }\n",
       "</style>\n",
       "<table border=\"1\" class=\"dataframe\">\n",
       "  <thead>\n",
       "    <tr style=\"text-align: right;\">\n",
       "      <th></th>\n",
       "      <th>count</th>\n",
       "      <th>mean</th>\n",
       "      <th>std</th>\n",
       "      <th>min</th>\n",
       "      <th>25%</th>\n",
       "      <th>50%</th>\n",
       "      <th>75%</th>\n",
       "      <th>max</th>\n",
       "    </tr>\n",
       "  </thead>\n",
       "  <tbody>\n",
       "    <tr>\n",
       "      <th>rating</th>\n",
       "      <td>97802.0</td>\n",
       "      <td>3.503246</td>\n",
       "      <td>1.039595</td>\n",
       "      <td>0.5</td>\n",
       "      <td>3.0</td>\n",
       "      <td>3.5</td>\n",
       "      <td>4.0</td>\n",
       "      <td>5.0</td>\n",
       "    </tr>\n",
       "  </tbody>\n",
       "</table>\n",
       "</div>"
      ],
      "text/plain": [
       "          count      mean       std  min  25%  50%  75%  max\n",
       "rating  97802.0  3.503246  1.039595  0.5  3.0  3.5  4.0  5.0"
      ]
     },
     "metadata": {},
     "output_type": "display_data"
    }
   ],
   "source": [
    "# 5 point summary of numerical attributes\n",
    "display(movie_ratings[['rating']].describe().transpose())"
   ]
  },
  {
   "cell_type": "code",
   "execution_count": 14,
   "id": "052b6d74",
   "metadata": {},
   "outputs": [
    {
     "name": "stdout",
     "output_type": "stream",
     "text": [
      "Total unique users in the dataset 426\n",
      "Total unique movies in the dataset 10281\n"
     ]
    }
   ],
   "source": [
    "# Unique users and movies count\n",
    "print('Total unique users in the dataset', movie_ratings['userId'].nunique())\n",
    "print('Total unique movies in the dataset',  movie_ratings['movieId'].nunique())"
   ]
  },
  {
   "cell_type": "markdown",
   "id": "0762de32",
   "metadata": {},
   "source": [
    "## Data Analysis and Visualization"
   ]
  },
  {
   "cell_type": "markdown",
   "id": "331d9979",
   "metadata": {},
   "source": [
    "### a. Rating Distribution"
   ]
  },
  {
   "cell_type": "code",
   "execution_count": 15,
   "id": "80ffc693",
   "metadata": {},
   "outputs": [],
   "source": [
    "pal = sns.color_palette(palette='Set1', n_colors=16)"
   ]
  },
  {
   "cell_type": "code",
   "execution_count": 16,
   "id": "aac39bbb",
   "metadata": {},
   "outputs": [
    {
     "data": {
      "image/png": "[encoded data removed]",
      "text/plain": [
       "<Figure size 720x504 with 1 Axes>"
      ]
     },
     "metadata": {},
     "output_type": "display_data"
    }
   ],
   "source": [
    "distplot(1, 1, 10, 7, data=movie_ratings, features=['rating'], colors=['blue'])"
   ]
  },
  {
   "cell_type": "markdown",
   "id": "4ac7b393",
   "metadata": {},
   "source": [
    "### Observations\n",
    "1. Many users have rated 4 as it is displayed by the long bar.\n",
    "2. This is folowed by rating 3 which has a higher number\n",
    "3. Ratings 1. 2 are comparatively less"
   ]
  },
  {
   "cell_type": "code",
   "execution_count": 17,
   "id": "05e8c8f7",
   "metadata": {},
   "outputs": [
    {
     "data": {
      "image/png": "[encoded data removed]",
      "text/plain": [
       "<Figure size 720x504 with 1 Axes>"
      ]
     },
     "metadata": {},
     "output_type": "display_data"
    }
   ],
   "source": [
    "distplot(1, 1, 10, 7, data=movie_ratings, features=['rating'], colors=['red'], kde = False)"
   ]
  },
  {
   "cell_type": "code",
   "execution_count": null,
   "id": "b8ea6400",
   "metadata": {},
   "outputs": [],
   "source": []
  },
  {
   "cell_type": "markdown",
   "id": "34577440",
   "metadata": {},
   "source": [
    "### b. Top Rating Count Distribution grouped by Movies"
   ]
  },
  {
   "cell_type": "code",
   "execution_count": 18,
   "id": "5582398b",
   "metadata": {},
   "outputs": [
    {
     "data": {
      "text/plain": [
       "array([30, 10,  2, 20, 16,  8, 12, 18, 17, 14, 24,  4, 11,  1,  3,  5, 13,\n",
       "       28, 19, 15,  6,  9, 22,  7, 23, 25, 29, 21, 26, 27], dtype=int64)"
      ]
     },
     "execution_count": 18,
     "metadata": {},
     "output_type": "execute_result"
    }
   ],
   "source": [
    "movies_groupby_rating = movie_ratings.groupby('movieId')['rating']\n",
    "movies_groupby_rating.count().clip(upper = 30).unique()"
   ]
  },
  {
   "cell_type": "code",
   "execution_count": 19,
   "id": "d4dfbd38",
   "metadata": {},
   "outputs": [],
   "source": [
    "ratings_movies = pd.DataFrame(movies_groupby_rating.count().clip(upper=30))\n",
    "ratings_movies.rename(columns={\"rating\": \"rating_count\"}, inplace=True)"
   ]
  },
  {
   "cell_type": "code",
   "execution_count": 20,
   "id": "eb90579a",
   "metadata": {},
   "outputs": [
    {
     "data": {
      "image/png": "[encoded data removed]",
      "text/plain": [
       "<Figure size 720x504 with 1 Axes>"
      ]
     },
     "metadata": {},
     "output_type": "display_data"
    }
   ],
   "source": [
    "distplot(1, 1, 10, 7, data=ratings_movies, features=['rating_count'], colors=['green'], kde=False)"
   ]
  },
  {
   "cell_type": "markdown",
   "id": "53ee5294",
   "metadata": {},
   "source": [
    "### c. Top Rating Count Distribution grouped by Users"
   ]
  },
  {
   "cell_type": "code",
   "execution_count": 21,
   "id": "aa9a633d",
   "metadata": {},
   "outputs": [
    {
     "data": {
      "text/plain": [
       "array([ 113,   73,  124,   68,   61,  161,   59,  121,   97,   81,  140,\n",
       "        100,   51,  201,   64,  273,  150,  135,  233,  276,   96,   58,\n",
       "        365,  103,   66,  207,   65,   88,  120,   54,  223,  202,  158,\n",
       "       1032, 1107,   53,  353,  380,  175,  148,   60,   74,  147,  272,\n",
       "        720,  225,  112,   62,   72,  126,  101,  110,   57,  394,  108,\n",
       "        804,  270,  425,  167,   50,  323,   69,  312,  165,  134, 1231,\n",
       "        565,   70,  311,  180,  195,   79,  142,  348,  139,  237,   52,\n",
       "        768,  215,  895,  119,  151,  166,  128,   56,  160,   95,  741,\n",
       "        550,  155,   99,  275,  238,  721,  414,  122,  123,  268,  159,\n",
       "        157,  246,   67,   80,  105,  118,  632,  373,  834, 1182,  661,\n",
       "       1421,  485,  191,  184,  290,  581,  107,  267,  636,   55,   94,\n",
       "        262,   92,  383,  152,  219,   77,  106,  281,  234,   89,  464,\n",
       "        266,  197, 1287,  337,  242,  226,  287,   93,  130,  102,   87,\n",
       "        111,  169,  164,  424,  887,  305,   82,  529,  178,  254,  250,\n",
       "        517,  865,  419,  333,  378,  684, 1040,  542,  297,   76,  500,\n",
       "        200,  133,  156,  138,  329, 1064, 2086,   75,  347, 1005,  349,\n",
       "         90, 1249,  298,  289,  324,  224,  146,   85,  185,  115,   98,\n",
       "        153,  532,  174,   91,   84,  279,  114,  132,  179,  341,  426,\n",
       "        760,  352,  363,  208, 2837,  646,  206,  203,  277,  274,  213,\n",
       "        162,  549,  449,  439,  387,  136, 1176,  172,  400,  189,  331,\n",
       "       1050,   71,   86,  318,   83,  127,  116,  227, 5678], dtype=int64)"
      ]
     },
     "execution_count": 21,
     "metadata": {},
     "output_type": "execute_result"
    }
   ],
   "source": [
    "movies_groupby_user_rating = movie_ratings.groupby('userId')['rating']\n",
    "movies_groupby_user_rating.count().clip(lower = 50).unique()"
   ]
  },
  {
   "cell_type": "code",
   "execution_count": 22,
   "id": "f627f43f",
   "metadata": {},
   "outputs": [],
   "source": [
    "rating_users = pd.DataFrame(movies_groupby_user_rating.count().clip(lower=50, upper=300))\n",
    "rating_users.rename(columns={\"rating\": \"rating_count\"}, inplace=True)"
   ]
  },
  {
   "cell_type": "code",
   "execution_count": 23,
   "id": "a3871189",
   "metadata": {},
   "outputs": [
    {
     "data": {
      "image/png": "[encoded data removed]",
      "text/plain": [
       "<Figure size 720x504 with 1 Axes>"
      ]
     },
     "metadata": {},
     "output_type": "display_data"
    }
   ],
   "source": [
    "distplot(1, 1, 10, 7, data=rating_users, features=['rating_count'], colors=['orange'], kde=False, bins=50)"
   ]
  },
  {
   "cell_type": "markdown",
   "id": "7b12805c",
   "metadata": {},
   "source": [
    "### d. Mean Rating distribution grouped by Movies"
   ]
  },
  {
   "cell_type": "code",
   "execution_count": 24,
   "id": "6104da81",
   "metadata": {},
   "outputs": [],
   "source": [
    "ratings = pd.DataFrame(movie_ratings.groupby('movieId')['rating'].mean())\n",
    "ratings.rename(columns={\"rating\": \"rating_mean\"}, inplace=True)"
   ]
  },
  {
   "cell_type": "code",
   "execution_count": 25,
   "id": "c3358adc",
   "metadata": {},
   "outputs": [
    {
     "data": {
      "image/png": "[encoded data removed]",
      "text/plain": [
       "<Figure size 720x504 with 1 Axes>"
      ]
     },
     "metadata": {},
     "output_type": "display_data"
    }
   ],
   "source": [
    "distplot(1, 1, 10, 7, data=ratings, features=['rating_mean'], colors=['brown'], kde=False, bins=50)"
   ]
  },
  {
   "cell_type": "markdown",
   "id": "80e7a09e",
   "metadata": {},
   "source": [
    "### e. Mean Rating - Rating Count Distribution grouped by Products"
   ]
  },
  {
   "cell_type": "code",
   "execution_count": 26,
   "id": "357a7840",
   "metadata": {},
   "outputs": [],
   "source": [
    "ratings['rating_count'] = movie_ratings.groupby('movieId')['rating'].count()"
   ]
  },
  {
   "cell_type": "code",
   "execution_count": 27,
   "id": "97fbf84c",
   "metadata": {},
   "outputs": [
    {
     "data": {
      "image/png": "[encoded data removed]",
      "text/plain": [
       "<Figure size 720x576 with 1 Axes>"
      ]
     },
     "metadata": {},
     "output_type": "display_data"
    }
   ],
   "source": [
    "scatterplot('rating_mean', 'rating_count', data=ratings)"
   ]
  },
  {
   "cell_type": "markdown",
   "id": "132ecbbd",
   "metadata": {},
   "source": [
    "### f. Mean Rating Distribution grouped by Users"
   ]
  },
  {
   "cell_type": "code",
   "execution_count": 28,
   "id": "d66def00",
   "metadata": {},
   "outputs": [
    {
     "data": {
      "image/png": "[encoded data removed]",
      "text/plain": [
       "<Figure size 720x504 with 1 Axes>"
      ]
     },
     "metadata": {},
     "output_type": "display_data"
    }
   ],
   "source": [
    "ratings = pd.DataFrame(movie_ratings.groupby('userId')['rating'].mean())\n",
    "ratings.rename(columns={\"rating\": \"rating_mean\"}, inplace=True)\n",
    "distplot(1, 1, 10, 7, data=ratings, features=['rating_mean'], colors=['brown'], kde=False, bins=50)"
   ]
  },
  {
   "cell_type": "markdown",
   "id": "7852f098",
   "metadata": {},
   "source": [
    "### g. Mean Rating - Rating Count Distribution grouped by Users"
   ]
  },
  {
   "cell_type": "code",
   "execution_count": 29,
   "id": "16f6735c",
   "metadata": {},
   "outputs": [
    {
     "data": {
      "image/png": "[encoded data removed]",
      "text/plain": [
       "<Figure size 720x576 with 1 Axes>"
      ]
     },
     "metadata": {},
     "output_type": "display_data"
    }
   ],
   "source": [
    "ratings['rating_count'] = movie_ratings.groupby('userId')['rating'].count()\n",
    "scatterplot('rating_mean', 'rating_count', data=ratings)"
   ]
  },
  {
   "cell_type": "markdown",
   "id": "0eaad7ae",
   "metadata": {},
   "source": [
    "# Split data into training and test set in the ratio of 70:30 respectively"
   ]
  },
  {
   "cell_type": "code",
   "execution_count": 30,
   "id": "d76d5182",
   "metadata": {},
   "outputs": [
    {
     "data": {
      "text/markdown": [
       "<span style = 'color: brown'>**Training and Testing Set Distribution**</span>"
      ],
      "text/plain": [
       "<IPython.core.display.Markdown object>"
      ]
     },
     "metadata": {},
     "output_type": "display_data"
    },
    {
     "name": "stdout",
     "output_type": "stream",
     "text": [
      "Training set has 68461 rows and 4 columns\n",
      "Testing set has 29341 rows and 4 columns\n"
     ]
    }
   ],
   "source": [
    "train_data, test_data = train_test_split(movie_ratings, test_size =.30, random_state = 10)\n",
    "printmd('**Training and Testing Set Distribution**', color = 'brown')\n",
    "\n",
    "print(f'Training set has {train_data.shape[0]} rows and {train_data.shape[1]} columns')\n",
    "print(f'Testing set has {test_data.shape[0]} rows and {test_data.shape[1]} columns')"
   ]
  },
  {
   "cell_type": "markdown",
   "id": "36e0efa0",
   "metadata": {},
   "source": [
    "## Recommender Systems"
   ]
  },
  {
   "cell_type": "markdown",
   "id": "8e638f92",
   "metadata": {},
   "source": [
    "### a. Popularity Based Recommender System"
   ]
  },
  {
   "cell_type": "markdown",
   "id": "5a50fe4c",
   "metadata": {},
   "source": [
    "Popularity based recommendation system utilises the items trending currently. The system ranks items based on their popularity, that is the rating count. If an item has high ratings then its very likely that it will be ranked higher and hence will be recommended. The recommendations cannot be personalized as they are based on the popularity of the items, therefore different users might get a recommendation of the same set of items. "
   ]
  },
  {
   "cell_type": "code",
   "execution_count": 31,
   "id": "e5570f2e",
   "metadata": {},
   "outputs": [],
   "source": [
    "class popularity_based_recommender_model():\n",
    "    def __init__(self, train_data, test_data, user_id, item_id, title):\n",
    "        self.train_data = train_data\n",
    "        self.test_data = test_data\n",
    "        self.user_id = user_id\n",
    "        self.item_id = item_id\n",
    "        self.title = title\n",
    "        self.popularity_recommendations = None\n",
    "        \n",
    "    #Create the popularity based recommender system model\n",
    "    def fit(self):\n",
    "        #Get a count of user_ids for each unique product as recommendation score\n",
    "        train_data_grouped = train_data.groupby([self.item_id]).agg({self.user_id: 'count'}).reset_index()\n",
    "        train_data_grouped.rename(columns = {'userId': 'score'},inplace=True)\n",
    "    \n",
    "        #Sort the products based upon recommendation score\n",
    "        train_data_sort = train_data_grouped.sort_values(['score', self.item_id], ascending = [0,1])\n",
    "        #Generate a recommendation rank based upon score\n",
    "        train_data_sort['Rank'] = train_data_sort['score'].rank(ascending=0, method='first')\n",
    "        \n",
    "        #Get the top 10 recommendations\n",
    "        self.popularity_recommendations = train_data_sort.head(20)\n",
    "\n",
    "    #Use the popularity based recommender system model to make recommendations\n",
    "    def recommend(self, user_id, n=5):    \n",
    "        user_recommendations = self.popularity_recommendations\n",
    "        \n",
    "        #Filter products that are not rated by the user\n",
    "        products_already_rated_by_user = self.train_data[self.train_data[self.user_id] == user_id][self.item_id]        \n",
    "        user_recommendations = user_recommendations[~user_recommendations[self.item_id].isin(products_already_rated_by_user)]\n",
    "        #Add user_id column for which the recommendations are being generated\n",
    "        user_recommendations['user_id'] = user_id\n",
    "        \n",
    "    \n",
    "        #Bring user_id column to the front\n",
    "        cols = user_recommendations.columns.tolist()\n",
    "        cols = cols[-1:] + cols[:-1]\n",
    "        user_recommendations = user_recommendations[cols].head(n)     \n",
    "        self.plot(user_recommendations)\n",
    "        return user_recommendations\n",
    "    \n",
    "    def plot(self, user_recommendations):\n",
    "        f, axes = plt.subplots(1, 2, figsize=(20, 8))\n",
    "        cplot1 = sns.barplot(x='Rank', y='score', data=user_recommendations, hue='Rank', ax=axes[0])\n",
    "        cplot1.set_xlabel('Rank',fontsize=20)\n",
    "        cplot1.set_ylabel('score',fontsize=20)\n",
    "        cplot2 = sns.pointplot(x='Rank', y='score', data=user_recommendations, hue='Rank', ax=axes[1])\n",
    "        cplot2.set_xlabel('Rank',fontsize=20)\n",
    "        cplot2.set_ylabel('score',fontsize=20)\n",
    "        \n",
    "    def predict_evaluate(self):        \n",
    "        ratings = pd.DataFrame(self.train_data.groupby(self.item_id)['rating'].mean())\n",
    "        \n",
    "        pred_ratings = [];            \n",
    "        for data in self.test_data.values:\n",
    "            if(data[1] in (ratings.index)):\n",
    "                pred_ratings.append(ratings.loc[data[1]])\n",
    "            else:\n",
    "                pred_ratings.append(0)\n",
    "        \n",
    "        mse = mean_squared_error(self.test_data['rating'], pred_ratings)\n",
    "        rmse = sqrt(mse)\n",
    "        return rmse"
   ]
  },
  {
   "cell_type": "code",
   "execution_count": 32,
   "id": "efab493e",
   "metadata": {},
   "outputs": [],
   "source": [
    "pop_recommender = popularity_based_recommender_model(train_data=train_data, test_data=test_data, user_id='userId', item_id='movieId', title = 'title')"
   ]
  },
  {
   "cell_type": "code",
   "execution_count": 33,
   "id": "e18e824f",
   "metadata": {},
   "outputs": [],
   "source": [
    "pop_recommender.fit()"
   ]
  },
  {
   "cell_type": "code",
   "execution_count": 85,
   "id": "92466744",
   "metadata": {
    "scrolled": true
   },
   "outputs": [
    {
     "data": {
      "text/html": [
       "<div>\n",
       "<style scoped>\n",
       "    .dataframe tbody tr th:only-of-type {\n",
       "        vertical-align: middle;\n",
       "    }\n",
       "\n",
       "    .dataframe tbody tr th {\n",
       "        vertical-align: top;\n",
       "    }\n",
       "\n",
       "    .dataframe thead th {\n",
       "        text-align: right;\n",
       "    }\n",
       "</style>\n",
       "<table border=\"1\" class=\"dataframe\">\n",
       "  <thead>\n",
       "    <tr style=\"text-align: right;\">\n",
       "      <th></th>\n",
       "      <th>user_id</th>\n",
       "      <th>movieId</th>\n",
       "      <th>score</th>\n",
       "      <th>Rank</th>\n",
       "    </tr>\n",
       "  </thead>\n",
       "  <tbody>\n",
       "    <tr>\n",
       "      <th>251</th>\n",
       "      <td>1</td>\n",
       "      <td>296</td>\n",
       "      <td>196</td>\n",
       "      <td>1.0</td>\n",
       "    </tr>\n",
       "    <tr>\n",
       "      <th>1949</th>\n",
       "      <td>1</td>\n",
       "      <td>2571</td>\n",
       "      <td>174</td>\n",
       "      <td>2.0</td>\n",
       "    </tr>\n",
       "    <tr>\n",
       "      <th>307</th>\n",
       "      <td>1</td>\n",
       "      <td>356</td>\n",
       "      <td>166</td>\n",
       "      <td>3.0</td>\n",
       "    </tr>\n",
       "    <tr>\n",
       "      <th>222</th>\n",
       "      <td>1</td>\n",
       "      <td>260</td>\n",
       "      <td>159</td>\n",
       "      <td>4.0</td>\n",
       "    </tr>\n",
       "    <tr>\n",
       "      <th>270</th>\n",
       "      <td>1</td>\n",
       "      <td>318</td>\n",
       "      <td>158</td>\n",
       "      <td>5.0</td>\n",
       "    </tr>\n",
       "  </tbody>\n",
       "</table>\n",
       "</div>"
      ],
      "text/plain": [
       "     user_id  movieId  score  Rank\n",
       "251        1      296    196   1.0\n",
       "1949       1     2571    174   2.0\n",
       "307        1      356    166   3.0\n",
       "222        1      260    159   4.0\n",
       "270        1      318    158   5.0"
      ]
     },
     "execution_count": 85,
     "metadata": {},
     "output_type": "execute_result"
    },
    {
     "data": {
      "image/png": "[encoded data removed]",
      "text/plain": [
       "<Figure size 1440x576 with 2 Axes>"
      ]
     },
     "metadata": {},
     "output_type": "display_data"
    }
   ],
   "source": [
    "result_pop_user1 = pop_recommender.recommend('1')\n",
    "result_pop_user1"
   ]
  },
  {
   "cell_type": "code",
   "execution_count": 35,
   "id": "a3ba2e18",
   "metadata": {},
   "outputs": [
    {
     "data": {
      "text/html": [
       "<div>\n",
       "<style scoped>\n",
       "    .dataframe tbody tr th:only-of-type {\n",
       "        vertical-align: middle;\n",
       "    }\n",
       "\n",
       "    .dataframe tbody tr th {\n",
       "        vertical-align: top;\n",
       "    }\n",
       "\n",
       "    .dataframe thead th {\n",
       "        text-align: right;\n",
       "    }\n",
       "</style>\n",
       "<table border=\"1\" class=\"dataframe\">\n",
       "  <thead>\n",
       "    <tr style=\"text-align: right;\">\n",
       "      <th></th>\n",
       "      <th>user_id</th>\n",
       "      <th>movieId</th>\n",
       "      <th>score</th>\n",
       "      <th>Rank</th>\n",
       "    </tr>\n",
       "  </thead>\n",
       "  <tbody>\n",
       "    <tr>\n",
       "      <th>251</th>\n",
       "      <td>16</td>\n",
       "      <td>296</td>\n",
       "      <td>196</td>\n",
       "      <td>1.0</td>\n",
       "    </tr>\n",
       "    <tr>\n",
       "      <th>1949</th>\n",
       "      <td>16</td>\n",
       "      <td>2571</td>\n",
       "      <td>174</td>\n",
       "      <td>2.0</td>\n",
       "    </tr>\n",
       "    <tr>\n",
       "      <th>307</th>\n",
       "      <td>16</td>\n",
       "      <td>356</td>\n",
       "      <td>166</td>\n",
       "      <td>3.0</td>\n",
       "    </tr>\n",
       "    <tr>\n",
       "      <th>222</th>\n",
       "      <td>16</td>\n",
       "      <td>260</td>\n",
       "      <td>159</td>\n",
       "      <td>4.0</td>\n",
       "    </tr>\n",
       "    <tr>\n",
       "      <th>270</th>\n",
       "      <td>16</td>\n",
       "      <td>318</td>\n",
       "      <td>158</td>\n",
       "      <td>5.0</td>\n",
       "    </tr>\n",
       "  </tbody>\n",
       "</table>\n",
       "</div>"
      ],
      "text/plain": [
       "     user_id  movieId  score  Rank\n",
       "251       16      296    196   1.0\n",
       "1949      16     2571    174   2.0\n",
       "307       16      356    166   3.0\n",
       "222       16      260    159   4.0\n",
       "270       16      318    158   5.0"
      ]
     },
     "execution_count": 35,
     "metadata": {},
     "output_type": "execute_result"
    },
    {
     "data": {
      "image/png": "[encoded data removed]",
      "text/plain": [
       "<Figure size 1440x576 with 2 Axes>"
      ]
     },
     "metadata": {},
     "output_type": "display_data"
    }
   ],
   "source": [
    "result_pop_user2 = pop_recommender.recommend('16')\n",
    "result_pop_user2"
   ]
  },
  {
   "cell_type": "code",
   "execution_count": 36,
   "id": "98aa5619",
   "metadata": {},
   "outputs": [
    {
     "data": {
      "text/html": [
       "<div>\n",
       "<style scoped>\n",
       "    .dataframe tbody tr th:only-of-type {\n",
       "        vertical-align: middle;\n",
       "    }\n",
       "\n",
       "    .dataframe tbody tr th {\n",
       "        vertical-align: top;\n",
       "    }\n",
       "\n",
       "    .dataframe thead th {\n",
       "        text-align: right;\n",
       "    }\n",
       "</style>\n",
       "<table border=\"1\" class=\"dataframe\">\n",
       "  <thead>\n",
       "    <tr style=\"text-align: right;\">\n",
       "      <th></th>\n",
       "      <th>user_id</th>\n",
       "      <th>movieId</th>\n",
       "      <th>score</th>\n",
       "      <th>Rank</th>\n",
       "    </tr>\n",
       "  </thead>\n",
       "  <tbody>\n",
       "    <tr>\n",
       "      <th>251</th>\n",
       "      <td>668</td>\n",
       "      <td>296</td>\n",
       "      <td>196</td>\n",
       "      <td>1.0</td>\n",
       "    </tr>\n",
       "    <tr>\n",
       "      <th>1949</th>\n",
       "      <td>668</td>\n",
       "      <td>2571</td>\n",
       "      <td>174</td>\n",
       "      <td>2.0</td>\n",
       "    </tr>\n",
       "    <tr>\n",
       "      <th>307</th>\n",
       "      <td>668</td>\n",
       "      <td>356</td>\n",
       "      <td>166</td>\n",
       "      <td>3.0</td>\n",
       "    </tr>\n",
       "    <tr>\n",
       "      <th>222</th>\n",
       "      <td>668</td>\n",
       "      <td>260</td>\n",
       "      <td>159</td>\n",
       "      <td>4.0</td>\n",
       "    </tr>\n",
       "    <tr>\n",
       "      <th>270</th>\n",
       "      <td>668</td>\n",
       "      <td>318</td>\n",
       "      <td>158</td>\n",
       "      <td>5.0</td>\n",
       "    </tr>\n",
       "  </tbody>\n",
       "</table>\n",
       "</div>"
      ],
      "text/plain": [
       "     user_id  movieId  score  Rank\n",
       "251      668      296    196   1.0\n",
       "1949     668     2571    174   2.0\n",
       "307      668      356    166   3.0\n",
       "222      668      260    159   4.0\n",
       "270      668      318    158   5.0"
      ]
     },
     "execution_count": 36,
     "metadata": {},
     "output_type": "execute_result"
    },
    {
     "data": {
      "image/png": "[encoded data removed]",
      "text/plain": [
       "<Figure size 1440x576 with 2 Axes>"
      ]
     },
     "metadata": {},
     "output_type": "display_data"
    }
   ],
   "source": [
    "result_pop_user3 = pop_recommender.recommend('668')\n",
    "result_pop_user3"
   ]
  },
  {
   "cell_type": "code",
   "execution_count": 37,
   "id": "f66c5df0",
   "metadata": {
    "scrolled": true
   },
   "outputs": [
    {
     "data": {
      "text/html": [
       "<table style=\"display:inline; margin-left:50px !important:margin-right:40px !important\" border=\"1\" class=\"dataframe\">\n",
       "  <thead>\n",
       "    <tr style=\"text-align: right;\">\n",
       "      <th></th>\n",
       "      <th>user_id</th>\n",
       "      <th>movieId</th>\n",
       "      <th>score</th>\n",
       "      <th>Rank</th>\n",
       "    </tr>\n",
       "  </thead>\n",
       "  <tbody>\n",
       "    <tr>\n",
       "      <th>251</th>\n",
       "      <td>1</td>\n",
       "      <td>296</td>\n",
       "      <td>196</td>\n",
       "      <td>1.0</td>\n",
       "    </tr>\n",
       "    <tr>\n",
       "      <th>1949</th>\n",
       "      <td>1</td>\n",
       "      <td>2571</td>\n",
       "      <td>174</td>\n",
       "      <td>2.0</td>\n",
       "    </tr>\n",
       "    <tr>\n",
       "      <th>307</th>\n",
       "      <td>1</td>\n",
       "      <td>356</td>\n",
       "      <td>166</td>\n",
       "      <td>3.0</td>\n",
       "    </tr>\n",
       "    <tr>\n",
       "      <th>222</th>\n",
       "      <td>1</td>\n",
       "      <td>260</td>\n",
       "      <td>159</td>\n",
       "      <td>4.0</td>\n",
       "    </tr>\n",
       "    <tr>\n",
       "      <th>270</th>\n",
       "      <td>1</td>\n",
       "      <td>318</td>\n",
       "      <td>158</td>\n",
       "      <td>5.0</td>\n",
       "    </tr>\n",
       "  </tbody>\n",
       "</table style=\"display:inline; margin-left:50px !important:margin-right:40px !important\"><table style=\"display:inline; margin-left:50px !important:margin-right:40px !important\" border=\"1\" class=\"dataframe\">\n",
       "  <thead>\n",
       "    <tr style=\"text-align: right;\">\n",
       "      <th></th>\n",
       "      <th>user_id</th>\n",
       "      <th>movieId</th>\n",
       "      <th>score</th>\n",
       "      <th>Rank</th>\n",
       "    </tr>\n",
       "  </thead>\n",
       "  <tbody>\n",
       "    <tr>\n",
       "      <th>251</th>\n",
       "      <td>16</td>\n",
       "      <td>296</td>\n",
       "      <td>196</td>\n",
       "      <td>1.0</td>\n",
       "    </tr>\n",
       "    <tr>\n",
       "      <th>1949</th>\n",
       "      <td>16</td>\n",
       "      <td>2571</td>\n",
       "      <td>174</td>\n",
       "      <td>2.0</td>\n",
       "    </tr>\n",
       "    <tr>\n",
       "      <th>307</th>\n",
       "      <td>16</td>\n",
       "      <td>356</td>\n",
       "      <td>166</td>\n",
       "      <td>3.0</td>\n",
       "    </tr>\n",
       "    <tr>\n",
       "      <th>222</th>\n",
       "      <td>16</td>\n",
       "      <td>260</td>\n",
       "      <td>159</td>\n",
       "      <td>4.0</td>\n",
       "    </tr>\n",
       "    <tr>\n",
       "      <th>270</th>\n",
       "      <td>16</td>\n",
       "      <td>318</td>\n",
       "      <td>158</td>\n",
       "      <td>5.0</td>\n",
       "    </tr>\n",
       "  </tbody>\n",
       "</table style=\"display:inline; margin-left:50px !important:margin-right:40px !important\"><table style=\"display:inline; margin-left:50px !important:margin-right:40px !important\" border=\"1\" class=\"dataframe\">\n",
       "  <thead>\n",
       "    <tr style=\"text-align: right;\">\n",
       "      <th></th>\n",
       "      <th>user_id</th>\n",
       "      <th>movieId</th>\n",
       "      <th>score</th>\n",
       "      <th>Rank</th>\n",
       "    </tr>\n",
       "  </thead>\n",
       "  <tbody>\n",
       "    <tr>\n",
       "      <th>251</th>\n",
       "      <td>668</td>\n",
       "      <td>296</td>\n",
       "      <td>196</td>\n",
       "      <td>1.0</td>\n",
       "    </tr>\n",
       "    <tr>\n",
       "      <th>1949</th>\n",
       "      <td>668</td>\n",
       "      <td>2571</td>\n",
       "      <td>174</td>\n",
       "      <td>2.0</td>\n",
       "    </tr>\n",
       "    <tr>\n",
       "      <th>307</th>\n",
       "      <td>668</td>\n",
       "      <td>356</td>\n",
       "      <td>166</td>\n",
       "      <td>3.0</td>\n",
       "    </tr>\n",
       "    <tr>\n",
       "      <th>222</th>\n",
       "      <td>668</td>\n",
       "      <td>260</td>\n",
       "      <td>159</td>\n",
       "      <td>4.0</td>\n",
       "    </tr>\n",
       "    <tr>\n",
       "      <th>270</th>\n",
       "      <td>668</td>\n",
       "      <td>318</td>\n",
       "      <td>158</td>\n",
       "      <td>5.0</td>\n",
       "    </tr>\n",
       "  </tbody>\n",
       "</table style=\"display:inline; margin-left:50px !important:margin-right:40px !important\">"
      ]
     },
     "metadata": {},
     "output_type": "display_data"
    }
   ],
   "source": [
    "partioned_display([result_pop_user1, result_pop_user2, result_pop_user3])"
   ]
  },
  {
   "cell_type": "code",
   "execution_count": 38,
   "id": "b0b3e2ef",
   "metadata": {},
   "outputs": [
    {
     "data": {
      "text/plain": [
       "1.1891939978643358"
      ]
     },
     "execution_count": 38,
     "metadata": {},
     "output_type": "execute_result"
    }
   ],
   "source": [
    "pop_recommender.predict_evaluate()"
   ]
  },
  {
   "cell_type": "markdown",
   "id": "81f332b3",
   "metadata": {},
   "source": [
    "### Collaborative Filtering Based Recommender System"
   ]
  },
  {
   "cell_type": "markdown",
   "id": "279a618e",
   "metadata": {},
   "source": [
    "Collaborative filtering is a method of making predictions about the interests of user by analysing the taste of users which are similar to the in question. The name collaborative filtering stems from the idea of filtering patterns by collaborating multiple viewpoints. "
   ]
  },
  {
   "cell_type": "markdown",
   "id": "7b0a2a79",
   "metadata": {},
   "source": [
    "#### Load Surprise data from DataFrame "
   ]
  },
  {
   "cell_type": "code",
   "execution_count": 39,
   "id": "c71ee9de",
   "metadata": {},
   "outputs": [],
   "source": [
    "from surprise import accuracy\n",
    "from surprise.model_selection.validation import cross_validate\n",
    "from surprise.dataset import Dataset\n",
    "from surprise.reader import Reader\n",
    "from surprise import SVD\n",
    "from surprise import KNNBasic\n",
    "from surprise import KNNWithMeans\n",
    "reader = Reader()\n",
    "movie_ratings.drop('title', axis = 1, inplace = True)\n",
    "surprise_data = Dataset.load_from_df(movie_ratings, reader)"
   ]
  },
  {
   "cell_type": "code",
   "execution_count": 40,
   "id": "acc0e6a0",
   "metadata": {},
   "outputs": [],
   "source": [
    "from surprise.model_selection import train_test_split\n",
    "trainset, testset = train_test_split(surprise_data, test_size=.3, random_state=10)"
   ]
  },
  {
   "cell_type": "code",
   "execution_count": 41,
   "id": "b6de6465",
   "metadata": {},
   "outputs": [],
   "source": [
    "from collections import defaultdict\n",
    "\n",
    "def get_top_n(predictions, n=10):\n",
    "    # First map the predictions to each user.\n",
    "    top_n = defaultdict(list)\n",
    "    for uid, iid, true_r, est, _ in predictions:\n",
    "        top_n[uid].append((iid, est))\n",
    "\n",
    "    # Then sort the predictions for each user and retrieve the k highest ones.\n",
    "    for uid, user_ratings in top_n.items():\n",
    "        user_ratings.sort(key=lambda x: x[1], reverse=True)\n",
    "        top_n[uid] = user_ratings[:n]\n",
    "\n",
    "    return top_n"
   ]
  },
  {
   "cell_type": "code",
   "execution_count": 68,
   "id": "ab26e9ac",
   "metadata": {},
   "outputs": [],
   "source": [
    "class collab_filtering_based_recommender_model():\n",
    "    def __init__(self, model, trainset, testset, data):\n",
    "        self.model = model\n",
    "        self.trainset = trainset\n",
    "        self.testset = testset\n",
    "        self.data = data\n",
    "        self.pred_test = None\n",
    "        self.recommendations = None\n",
    "        self.top_n = None\n",
    "        self.recommenddf = None\n",
    "\n",
    "    def fit_and_predict(self):        \n",
    "        printmd('**Fitting the train data...**', color='brown')\n",
    "        self.model.fit(self.trainset)       \n",
    "\n",
    "        printmd('**Predicting the test data...**', color='brown')\n",
    "        self.pred_test = self.model.test(self.testset)\n",
    "        rmse = round(accuracy.rmse(self.pred_test), 3)\n",
    "        printmd('**RMSE for the predicted result is ' + str(rmse) + '**', color='brown')   \n",
    "        \n",
    "        self.top_n = get_top_n(self.pred_test)\n",
    "        self.recommenddf = pd.DataFrame(columns=['userId', 'movieId', 'rating'])\n",
    "        for item in self.top_n:\n",
    "            subdf = pd.DataFrame(self.top_n[item], columns=['movieId', 'rating'])\n",
    "            subdf['userId'] = item\n",
    "            cols = subdf.columns.tolist()\n",
    "            cols = cols[-1:] + cols[:-1]\n",
    "            subdf = subdf[cols]        \n",
    "            self.recommenddf = pd.concat([self.recommenddf, subdf], axis = 0)        \n",
    "        return rmse\n",
    "        \n",
    "    def cross_validate(self):\n",
    "        printmd('**Cross Validating the data...**', color='brown')\n",
    "        cv_result = cross_validate(self.model, self.data, n_jobs=-1)\n",
    "        cv_result = round(cv_result['test_rmse'].mean(),3)\n",
    "        printmd('**Mean CV RMSE is ' + str(cv_result)  + '**', color='brown')\n",
    "        return cv_result\n",
    "\n",
    "    def recommend(self, user_id, n=5):\n",
    "        printmd('**Recommending top ' + str(n)+ ' movies for userid : ' + user_id + ' ...**', color='brown')\n",
    "        \n",
    "        #df = pd.DataFrame(self.top_n[user_id], columns=['movieId', 'Rating'])\n",
    "        #df['UserId'] = user_id\n",
    "        #cols = df.columns.tolist()\n",
    "        #cols = cols[-1:] + cols[:-1]\n",
    "        #df = df[cols].head(n)\n",
    "        df = self.recommenddf[self.recommenddf['userId'] == user_id].head(n)\n",
    "        display(df)\n",
    "        return df\n",
    "        "
   ]
  },
  {
   "cell_type": "markdown",
   "id": "f4fc98f3",
   "metadata": {},
   "source": [
    "### Hyperparameter Optimization - Centered K-Nearest Neighbours"
   ]
  },
  {
   "cell_type": "code",
   "execution_count": 69,
   "id": "eb80c1e5",
   "metadata": {},
   "outputs": [],
   "source": [
    "from surprise.model_selection import RandomizedSearchCV\n",
    "\n",
    "def find_best_model(model, parameters,data):\n",
    "    clf = RandomizedSearchCV(model, parameters, n_jobs=-1, measures=['rmse'])\n",
    "    clf.fit(data)             \n",
    "    print(clf.best_score)\n",
    "    print(clf.best_params)\n",
    "    print(clf.best_estimator)\n",
    "    return clf"
   ]
  },
  {
   "cell_type": "code",
   "execution_count": 70,
   "id": "059d55bb",
   "metadata": {},
   "outputs": [
    {
     "name": "stdout",
     "output_type": "stream",
     "text": [
      "{'rmse': 0.8865974146444918}\n",
      "{'rmse': {'k': 40, 'sim_options': {'name': 'msd', 'min_support': 4, 'user_based': True}}}\n",
      "{'rmse': <surprise.prediction_algorithms.knns.KNNWithMeans object at 0x00000144D0F5BD48>}\n"
     ]
    }
   ],
   "source": [
    "sim_options = {\n",
    "    \"name\": [\"msd\", \"cosine\", \"pearson\", \"pearson_baseline\"],\n",
    "    \"min_support\": [3, 4, 5],\n",
    "    \"user_based\": [True],\n",
    "}\n",
    "params = { 'k': range(30,50,1), 'sim_options': sim_options}\n",
    "clf = find_best_model(KNNWithMeans, params, surprise_data)"
   ]
  },
  {
   "cell_type": "markdown",
   "id": "7b10b1d1",
   "metadata": {},
   "source": [
    "### Model fitting - Centered K-Nearest Neighbours"
   ]
  },
  {
   "cell_type": "code",
   "execution_count": 71,
   "id": "d749d585",
   "metadata": {},
   "outputs": [],
   "source": [
    "knnwithmeans = clf.best_estimator['rmse']\n",
    "col_fil_knnwithmeans = collab_filtering_based_recommender_model(knnwithmeans, trainset, testset, surprise_data)"
   ]
  },
  {
   "cell_type": "code",
   "execution_count": 72,
   "id": "f21e55a2",
   "metadata": {},
   "outputs": [
    {
     "data": {
      "text/markdown": [
       "<span style = 'color: brown'>**Fitting the train data...**</span>"
      ],
      "text/plain": [
       "<IPython.core.display.Markdown object>"
      ]
     },
     "metadata": {},
     "output_type": "display_data"
    },
    {
     "name": "stdout",
     "output_type": "stream",
     "text": [
      "Computing the msd similarity matrix...\n",
      "Done computing similarity matrix.\n"
     ]
    },
    {
     "data": {
      "text/markdown": [
       "<span style = 'color: brown'>**Predicting the test data...**</span>"
      ],
      "text/plain": [
       "<IPython.core.display.Markdown object>"
      ]
     },
     "metadata": {},
     "output_type": "display_data"
    },
    {
     "name": "stdout",
     "output_type": "stream",
     "text": [
      "RMSE: 0.8871\n"
     ]
    },
    {
     "data": {
      "text/markdown": [
       "<span style = 'color: brown'>**RMSE for the predicted result is 0.887**</span>"
      ],
      "text/plain": [
       "<IPython.core.display.Markdown object>"
      ]
     },
     "metadata": {},
     "output_type": "display_data"
    }
   ],
   "source": [
    "knnwithmeans_rmse = col_fil_knnwithmeans.fit_and_predict()"
   ]
  },
  {
   "cell_type": "code",
   "execution_count": 73,
   "id": "9a7aacd8",
   "metadata": {},
   "outputs": [
    {
     "data": {
      "text/markdown": [
       "<span style = 'color: brown'>**Cross Validating the data...**</span>"
      ],
      "text/plain": [
       "<IPython.core.display.Markdown object>"
      ]
     },
     "metadata": {},
     "output_type": "display_data"
    },
    {
     "data": {
      "text/markdown": [
       "<span style = 'color: brown'>**Mean CV RMSE is 0.887**</span>"
      ],
      "text/plain": [
       "<IPython.core.display.Markdown object>"
      ]
     },
     "metadata": {},
     "output_type": "display_data"
    }
   ],
   "source": [
    "knnwithmeans_cv_rmse = col_fil_knnwithmeans.cross_validate()"
   ]
  },
  {
   "cell_type": "code",
   "execution_count": 84,
   "id": "6eb243da",
   "metadata": {},
   "outputs": [
    {
     "data": {
      "text/markdown": [
       "<span style = 'color: brown'>**Recommending top 5 movies for userid : 1 ...**</span>"
      ],
      "text/plain": [
       "<IPython.core.display.Markdown object>"
      ]
     },
     "metadata": {},
     "output_type": "display_data"
    },
    {
     "data": {
      "text/html": [
       "<div>\n",
       "<style scoped>\n",
       "    .dataframe tbody tr th:only-of-type {\n",
       "        vertical-align: middle;\n",
       "    }\n",
       "\n",
       "    .dataframe tbody tr th {\n",
       "        vertical-align: top;\n",
       "    }\n",
       "\n",
       "    .dataframe thead th {\n",
       "        text-align: right;\n",
       "    }\n",
       "</style>\n",
       "<table border=\"1\" class=\"dataframe\">\n",
       "  <thead>\n",
       "    <tr style=\"text-align: right;\">\n",
       "      <th></th>\n",
       "      <th>userId</th>\n",
       "      <th>movieId</th>\n",
       "      <th>rating</th>\n",
       "    </tr>\n",
       "  </thead>\n",
       "  <tbody>\n",
       "  </tbody>\n",
       "</table>\n",
       "</div>"
      ],
      "text/plain": [
       "Empty DataFrame\n",
       "Columns: [userId, movieId, rating]\n",
       "Index: []"
      ]
     },
     "metadata": {},
     "output_type": "display_data"
    },
    {
     "data": {
      "text/markdown": [
       "<span style = 'color: brown'>**Recommending top 5 movies for userid : 16 ...**</span>"
      ],
      "text/plain": [
       "<IPython.core.display.Markdown object>"
      ]
     },
     "metadata": {},
     "output_type": "display_data"
    },
    {
     "data": {
      "text/html": [
       "<div>\n",
       "<style scoped>\n",
       "    .dataframe tbody tr th:only-of-type {\n",
       "        vertical-align: middle;\n",
       "    }\n",
       "\n",
       "    .dataframe tbody tr th {\n",
       "        vertical-align: top;\n",
       "    }\n",
       "\n",
       "    .dataframe thead th {\n",
       "        text-align: right;\n",
       "    }\n",
       "</style>\n",
       "<table border=\"1\" class=\"dataframe\">\n",
       "  <thead>\n",
       "    <tr style=\"text-align: right;\">\n",
       "      <th></th>\n",
       "      <th>userId</th>\n",
       "      <th>movieId</th>\n",
       "      <th>rating</th>\n",
       "    </tr>\n",
       "  </thead>\n",
       "  <tbody>\n",
       "  </tbody>\n",
       "</table>\n",
       "</div>"
      ],
      "text/plain": [
       "Empty DataFrame\n",
       "Columns: [userId, movieId, rating]\n",
       "Index: []"
      ]
     },
     "metadata": {},
     "output_type": "display_data"
    },
    {
     "data": {
      "text/markdown": [
       "<span style = 'color: brown'>**Recommending top 5 movies for userid : 668 ...**</span>"
      ],
      "text/plain": [
       "<IPython.core.display.Markdown object>"
      ]
     },
     "metadata": {},
     "output_type": "display_data"
    },
    {
     "data": {
      "text/html": [
       "<div>\n",
       "<style scoped>\n",
       "    .dataframe tbody tr th:only-of-type {\n",
       "        vertical-align: middle;\n",
       "    }\n",
       "\n",
       "    .dataframe tbody tr th {\n",
       "        vertical-align: top;\n",
       "    }\n",
       "\n",
       "    .dataframe thead th {\n",
       "        text-align: right;\n",
       "    }\n",
       "</style>\n",
       "<table border=\"1\" class=\"dataframe\">\n",
       "  <thead>\n",
       "    <tr style=\"text-align: right;\">\n",
       "      <th></th>\n",
       "      <th>userId</th>\n",
       "      <th>movieId</th>\n",
       "      <th>rating</th>\n",
       "    </tr>\n",
       "  </thead>\n",
       "  <tbody>\n",
       "  </tbody>\n",
       "</table>\n",
       "</div>"
      ],
      "text/plain": [
       "Empty DataFrame\n",
       "Columns: [userId, movieId, rating]\n",
       "Index: []"
      ]
     },
     "metadata": {},
     "output_type": "display_data"
    }
   ],
   "source": [
    "result_knn_user1 = col_fil_knnwithmeans.recommend(user_id='1', n=5)\n",
    "result_knn_user2 = col_fil_knnwithmeans.recommend(user_id='16', n=5)\n",
    "result_knn_user3 = col_fil_knnwithmeans.recommend(user_id='668', n=5)"
   ]
  },
  {
   "cell_type": "markdown",
   "id": "1ce4f192",
   "metadata": {},
   "source": [
    "### Hyperparameter Optimization - Singular Value Decomposition"
   ]
  },
  {
   "cell_type": "code",
   "execution_count": 75,
   "id": "ea977144",
   "metadata": {},
   "outputs": [
    {
     "name": "stdout",
     "output_type": "stream",
     "text": [
      "{'rmse': 0.8718206784427123}\n",
      "{'rmse': {'n_epochs': 20, 'lr_all': 0.005, 'reg_all': 0.4}}\n",
      "{'rmse': <surprise.prediction_algorithms.matrix_factorization.SVD object at 0x00000144D4A8E288>}\n"
     ]
    }
   ],
   "source": [
    "params= {\n",
    "    \"n_epochs\": [5, 10, 15, 20],\n",
    "    \"lr_all\": [0.002, 0.005],\n",
    "    \"reg_all\": [0.4, 0.6]\n",
    "}\n",
    "clf = find_best_model(SVD, params, surprise_data)"
   ]
  },
  {
   "cell_type": "markdown",
   "id": "9a98e5f8",
   "metadata": {},
   "source": [
    "### Model fitting - Singular Value Decomposition"
   ]
  },
  {
   "cell_type": "code",
   "execution_count": 76,
   "id": "0c887d91",
   "metadata": {},
   "outputs": [],
   "source": [
    "svd = clf.best_estimator['rmse']\n",
    "col_fil_svd = collab_filtering_based_recommender_model(svd, trainset, testset, surprise_data)"
   ]
  },
  {
   "cell_type": "code",
   "execution_count": 77,
   "id": "871d54e4",
   "metadata": {},
   "outputs": [
    {
     "data": {
      "text/markdown": [
       "<span style = 'color: brown'>**Fitting the train data...**</span>"
      ],
      "text/plain": [
       "<IPython.core.display.Markdown object>"
      ]
     },
     "metadata": {},
     "output_type": "display_data"
    },
    {
     "data": {
      "text/markdown": [
       "<span style = 'color: brown'>**Predicting the test data...**</span>"
      ],
      "text/plain": [
       "<IPython.core.display.Markdown object>"
      ]
     },
     "metadata": {},
     "output_type": "display_data"
    },
    {
     "name": "stdout",
     "output_type": "stream",
     "text": [
      "RMSE: 0.8721\n"
     ]
    },
    {
     "data": {
      "text/markdown": [
       "<span style = 'color: brown'>**RMSE for the predicted result is 0.872**</span>"
      ],
      "text/plain": [
       "<IPython.core.display.Markdown object>"
      ]
     },
     "metadata": {},
     "output_type": "display_data"
    }
   ],
   "source": [
    "svd_rmse = col_fil_svd.fit_and_predict()"
   ]
  },
  {
   "cell_type": "code",
   "execution_count": 78,
   "id": "fde6c3ce",
   "metadata": {},
   "outputs": [
    {
     "data": {
      "text/markdown": [
       "<span style = 'color: brown'>**Cross Validating the data...**</span>"
      ],
      "text/plain": [
       "<IPython.core.display.Markdown object>"
      ]
     },
     "metadata": {},
     "output_type": "display_data"
    },
    {
     "data": {
      "text/markdown": [
       "<span style = 'color: brown'>**Mean CV RMSE is 0.872**</span>"
      ],
      "text/plain": [
       "<IPython.core.display.Markdown object>"
      ]
     },
     "metadata": {},
     "output_type": "display_data"
    }
   ],
   "source": [
    "svd_cv_rmse = col_fil_svd.cross_validate()"
   ]
  },
  {
   "cell_type": "code",
   "execution_count": 79,
   "id": "dc855c8e",
   "metadata": {},
   "outputs": [
    {
     "data": {
      "text/markdown": [
       "<span style = 'color: brown'>**Recommending top 5 movies for userid : 1 ...**</span>"
      ],
      "text/plain": [
       "<IPython.core.display.Markdown object>"
      ]
     },
     "metadata": {},
     "output_type": "display_data"
    },
    {
     "data": {
      "text/html": [
       "<div>\n",
       "<style scoped>\n",
       "    .dataframe tbody tr th:only-of-type {\n",
       "        vertical-align: middle;\n",
       "    }\n",
       "\n",
       "    .dataframe tbody tr th {\n",
       "        vertical-align: top;\n",
       "    }\n",
       "\n",
       "    .dataframe thead th {\n",
       "        text-align: right;\n",
       "    }\n",
       "</style>\n",
       "<table border=\"1\" class=\"dataframe\">\n",
       "  <thead>\n",
       "    <tr style=\"text-align: right;\">\n",
       "      <th></th>\n",
       "      <th>userId</th>\n",
       "      <th>movieId</th>\n",
       "      <th>rating</th>\n",
       "    </tr>\n",
       "  </thead>\n",
       "  <tbody>\n",
       "  </tbody>\n",
       "</table>\n",
       "</div>"
      ],
      "text/plain": [
       "Empty DataFrame\n",
       "Columns: [userId, movieId, rating]\n",
       "Index: []"
      ]
     },
     "metadata": {},
     "output_type": "display_data"
    },
    {
     "data": {
      "text/markdown": [
       "<span style = 'color: brown'>**Recommending top 5 movies for userid : 16 ...**</span>"
      ],
      "text/plain": [
       "<IPython.core.display.Markdown object>"
      ]
     },
     "metadata": {},
     "output_type": "display_data"
    },
    {
     "data": {
      "text/html": [
       "<div>\n",
       "<style scoped>\n",
       "    .dataframe tbody tr th:only-of-type {\n",
       "        vertical-align: middle;\n",
       "    }\n",
       "\n",
       "    .dataframe tbody tr th {\n",
       "        vertical-align: top;\n",
       "    }\n",
       "\n",
       "    .dataframe thead th {\n",
       "        text-align: right;\n",
       "    }\n",
       "</style>\n",
       "<table border=\"1\" class=\"dataframe\">\n",
       "  <thead>\n",
       "    <tr style=\"text-align: right;\">\n",
       "      <th></th>\n",
       "      <th>userId</th>\n",
       "      <th>movieId</th>\n",
       "      <th>rating</th>\n",
       "    </tr>\n",
       "  </thead>\n",
       "  <tbody>\n",
       "  </tbody>\n",
       "</table>\n",
       "</div>"
      ],
      "text/plain": [
       "Empty DataFrame\n",
       "Columns: [userId, movieId, rating]\n",
       "Index: []"
      ]
     },
     "metadata": {},
     "output_type": "display_data"
    },
    {
     "data": {
      "text/markdown": [
       "<span style = 'color: brown'>**Recommending top 5 movies for userid : 668 ...**</span>"
      ],
      "text/plain": [
       "<IPython.core.display.Markdown object>"
      ]
     },
     "metadata": {},
     "output_type": "display_data"
    },
    {
     "data": {
      "text/html": [
       "<div>\n",
       "<style scoped>\n",
       "    .dataframe tbody tr th:only-of-type {\n",
       "        vertical-align: middle;\n",
       "    }\n",
       "\n",
       "    .dataframe tbody tr th {\n",
       "        vertical-align: top;\n",
       "    }\n",
       "\n",
       "    .dataframe thead th {\n",
       "        text-align: right;\n",
       "    }\n",
       "</style>\n",
       "<table border=\"1\" class=\"dataframe\">\n",
       "  <thead>\n",
       "    <tr style=\"text-align: right;\">\n",
       "      <th></th>\n",
       "      <th>userId</th>\n",
       "      <th>movieId</th>\n",
       "      <th>rating</th>\n",
       "    </tr>\n",
       "  </thead>\n",
       "  <tbody>\n",
       "  </tbody>\n",
       "</table>\n",
       "</div>"
      ],
      "text/plain": [
       "Empty DataFrame\n",
       "Columns: [userId, movieId, rating]\n",
       "Index: []"
      ]
     },
     "metadata": {},
     "output_type": "display_data"
    }
   ],
   "source": [
    "result_svd_user1 = col_fil_svd.recommend(user_id='1', n=5)\n",
    "result_svd_user2 = col_fil_svd.recommend(user_id='16', n=5)\n",
    "result_svd_user3 = col_fil_svd.recommend(user_id='668', n=5)"
   ]
  },
  {
   "cell_type": "markdown",
   "id": "ad9e588c",
   "metadata": {},
   "source": [
    "### Evaluating Other models on the data"
   ]
  },
  {
   "cell_type": "code",
   "execution_count": 86,
   "id": "cb6a0fca",
   "metadata": {},
   "outputs": [
    {
     "name": "stdout",
     "output_type": "stream",
     "text": [
      "Estimating biases using als...\n",
      "Computing the msd similarity matrix...\n",
      "Done computing similarity matrix.\n",
      "Estimating biases using als...\n",
      "Computing the msd similarity matrix...\n",
      "Done computing similarity matrix.\n",
      "Estimating biases using als...\n",
      "Computing the msd similarity matrix...\n",
      "Done computing similarity matrix.\n",
      "Estimating biases using als...\n",
      "Computing the msd similarity matrix...\n",
      "Done computing similarity matrix.\n",
      "Estimating biases using als...\n",
      "Computing the msd similarity matrix...\n",
      "Done computing similarity matrix.\n",
      "Computing the msd similarity matrix...\n",
      "Done computing similarity matrix.\n",
      "Computing the msd similarity matrix...\n",
      "Done computing similarity matrix.\n",
      "Computing the msd similarity matrix...\n",
      "Done computing similarity matrix.\n",
      "Computing the msd similarity matrix...\n",
      "Done computing similarity matrix.\n",
      "Computing the msd similarity matrix...\n",
      "Done computing similarity matrix.\n",
      "Computing the msd similarity matrix...\n",
      "Done computing similarity matrix.\n",
      "Computing the msd similarity matrix...\n",
      "Done computing similarity matrix.\n",
      "Computing the msd similarity matrix...\n",
      "Done computing similarity matrix.\n",
      "Computing the msd similarity matrix...\n",
      "Done computing similarity matrix.\n",
      "Computing the msd similarity matrix...\n",
      "Done computing similarity matrix.\n",
      "Estimating biases using als...\n",
      "Estimating biases using als...\n",
      "Estimating biases using als...\n",
      "Estimating biases using als...\n",
      "Estimating biases using als...\n"
     ]
    },
    {
     "data": {
      "text/plain": [
       "<bound method DataFrame.sort_values of                test_rmse  fit_time  test_time\n",
       "Algorithm                                    \n",
       "NMF             0.914706  7.839883   0.324580\n",
       "KNNBaseline     0.862985  0.495113   2.013253\n",
       "KNNBasic        0.948775  0.206338   1.498419\n",
       "KNNWithZScore   0.884240  0.311507   1.733615\n",
       "BaselineOnly    0.859827  0.268767   0.139987\n",
       "CoClustering    0.940671  3.603699   0.151224>"
      ]
     },
     "metadata": {},
     "output_type": "display_data"
    }
   ],
   "source": [
    "from surprise import NMF\n",
    "from surprise import KNNBaseline\n",
    "from surprise import KNNBasic\n",
    "from surprise import KNNWithZScore\n",
    "from surprise import BaselineOnly\n",
    "from surprise import CoClustering\n",
    "benchmark = []\n",
    "# Iterate over all algorithms\n",
    "for algorithm in [NMF(), KNNBaseline(), KNNBasic(), KNNWithZScore(), BaselineOnly(), CoClustering()]:\n",
    "    # Perform cross validation\n",
    "    results = cross_validate(algorithm, surprise_data, measures=['RMSE'], cv=5, verbose=False)\n",
    "    \n",
    "    # Get results & append algorithm name\n",
    "    tmp = pd.DataFrame.from_dict(results).mean(axis=0)\n",
    "    tmp = tmp.append(pd.Series([str(algorithm).split(' ')[0].split('.')[-1]], index=['Algorithm']))\n",
    "    benchmark.append(tmp)\n",
    "    \n",
    "display(pd.DataFrame(benchmark).set_index('Algorithm').sort_values)"
   ]
  },
  {
   "cell_type": "code",
   "execution_count": 81,
   "id": "170eeb4b",
   "metadata": {},
   "outputs": [
    {
     "data": {
      "text/html": [
       "<table style=\"display:inline; margin-left:50px !important:margin-right:40px !important\" border=\"1\" class=\"dataframe\">\n",
       "  <thead>\n",
       "    <tr style=\"text-align: right;\">\n",
       "      <th></th>\n",
       "      <th>userId</th>\n",
       "      <th>movieId</th>\n",
       "      <th>rating</th>\n",
       "    </tr>\n",
       "  </thead>\n",
       "  <tbody>\n",
       "  </tbody>\n",
       "</table style=\"display:inline; margin-left:50px !important:margin-right:40px !important\"><table style=\"display:inline; margin-left:50px !important:margin-right:40px !important\" border=\"1\" class=\"dataframe\">\n",
       "  <thead>\n",
       "    <tr style=\"text-align: right;\">\n",
       "      <th></th>\n",
       "      <th>userId</th>\n",
       "      <th>movieId</th>\n",
       "      <th>rating</th>\n",
       "    </tr>\n",
       "  </thead>\n",
       "  <tbody>\n",
       "  </tbody>\n",
       "</table style=\"display:inline; margin-left:50px !important:margin-right:40px !important\"><table style=\"display:inline; margin-left:50px !important:margin-right:40px !important\" border=\"1\" class=\"dataframe\">\n",
       "  <thead>\n",
       "    <tr style=\"text-align: right;\">\n",
       "      <th></th>\n",
       "      <th>userId</th>\n",
       "      <th>movieId</th>\n",
       "      <th>rating</th>\n",
       "    </tr>\n",
       "  </thead>\n",
       "  <tbody>\n",
       "  </tbody>\n",
       "</table style=\"display:inline; margin-left:50px !important:margin-right:40px !important\">"
      ]
     },
     "metadata": {},
     "output_type": "display_data"
    }
   ],
   "source": [
    "partioned_display([result_knn_user1, result_knn_user2, result_knn_user3])"
   ]
  },
  {
   "cell_type": "code",
   "execution_count": 82,
   "id": "27061c8d",
   "metadata": {},
   "outputs": [
    {
     "data": {
      "text/html": [
       "<table style=\"display:inline; margin-left:50px !important:margin-right:40px !important\" border=\"1\" class=\"dataframe\">\n",
       "  <thead>\n",
       "    <tr style=\"text-align: right;\">\n",
       "      <th></th>\n",
       "      <th>userId</th>\n",
       "      <th>movieId</th>\n",
       "      <th>rating</th>\n",
       "    </tr>\n",
       "  </thead>\n",
       "  <tbody>\n",
       "  </tbody>\n",
       "</table style=\"display:inline; margin-left:50px !important:margin-right:40px !important\"><table style=\"display:inline; margin-left:50px !important:margin-right:40px !important\" border=\"1\" class=\"dataframe\">\n",
       "  <thead>\n",
       "    <tr style=\"text-align: right;\">\n",
       "      <th></th>\n",
       "      <th>userId</th>\n",
       "      <th>movieId</th>\n",
       "      <th>rating</th>\n",
       "    </tr>\n",
       "  </thead>\n",
       "  <tbody>\n",
       "  </tbody>\n",
       "</table style=\"display:inline; margin-left:50px !important:margin-right:40px !important\"><table style=\"display:inline; margin-left:50px !important:margin-right:40px !important\" border=\"1\" class=\"dataframe\">\n",
       "  <thead>\n",
       "    <tr style=\"text-align: right;\">\n",
       "      <th></th>\n",
       "      <th>userId</th>\n",
       "      <th>movieId</th>\n",
       "      <th>rating</th>\n",
       "    </tr>\n",
       "  </thead>\n",
       "  <tbody>\n",
       "  </tbody>\n",
       "</table style=\"display:inline; margin-left:50px !important:margin-right:40px !important\">"
      ]
     },
     "metadata": {},
     "output_type": "display_data"
    }
   ],
   "source": [
    "partioned_display([result_svd_user1, result_svd_user2, result_svd_user3])"
   ]
  }
 ],
 "metadata": {
  "kernelspec": {
   "display_name": "Python 3",
   "language": "python",
   "name": "python3"
  },
  "language_info": {
   "codemirror_mode": {
    "name": "ipython",
    "version": 3
   },
   "file_extension": ".py",
   "mimetype": "text/x-python",
   "name": "python",
   "nbconvert_exporter": "python",
   "pygments_lexer": "ipython3",
   "version": "3.7.10"
  }
 },
 "nbformat": 4,
 "nbformat_minor": 5
}
